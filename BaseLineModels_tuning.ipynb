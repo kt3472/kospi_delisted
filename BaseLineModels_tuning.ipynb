{
 "cells": [
  {
   "cell_type": "code",
   "execution_count": 1,
   "metadata": {},
   "outputs": [],
   "source": [
    "import numpy as np\n",
    "import pandas as pd\n",
    "\n",
    "from sklearn import tree\n",
    "from sklearn.linear_model import LogisticRegression\n",
    "from sklearn import metrics\n",
    "from sklearn.metrics import f1_score, average_precision_score, precision_score, recall_score\n",
    "from sklearn.neighbors import KNeighborsClassifier\n",
    "from sklearn.tree import DecisionTreeClassifier\n",
    "from sklearn.ensemble import RandomForestClassifier, AdaBoostClassifier, GradientBoostingClassifier\n",
    "from xgboost import XGBClassifier\n",
    "\n",
    "from sklearn.model_selection import train_test_split, StratifiedKFold, GridSearchCV\n",
    "\n",
    "import matplotlib.pyplot as plt\n",
    "import seaborn as sns"
   ]
  },
  {
   "cell_type": "code",
   "execution_count": 2,
   "metadata": {},
   "outputs": [],
   "source": [
    "# by data_exploration_feature_selection_kospi.ipynb\n",
    "select_col = ['Market_cap(1YRF)', 'Funding_cost(avg)', 'Reservation_rate', 'Intangibel_assets', 'Funding_cost(final)']"
   ]
  },
  {
   "cell_type": "code",
   "execution_count": 3,
   "metadata": {},
   "outputs": [],
   "source": [
    "df = pd.read_excel(\"EDA_final_0128.xlsx\")"
   ]
  },
  {
   "cell_type": "code",
   "execution_count": 4,
   "metadata": {},
   "outputs": [
    {
     "data": {
      "text/html": [
       "<div>\n",
       "<style scoped>\n",
       "    .dataframe tbody tr th:only-of-type {\n",
       "        vertical-align: middle;\n",
       "    }\n",
       "\n",
       "    .dataframe tbody tr th {\n",
       "        vertical-align: top;\n",
       "    }\n",
       "\n",
       "    .dataframe thead th {\n",
       "        text-align: right;\n",
       "    }\n",
       "</style>\n",
       "<table border=\"1\" class=\"dataframe\">\n",
       "  <thead>\n",
       "    <tr style=\"text-align: right;\">\n",
       "      <th></th>\n",
       "      <th>Unnamed: 0</th>\n",
       "      <th>Symbol</th>\n",
       "      <th>Name</th>\n",
       "      <th>결산월</th>\n",
       "      <th>회계년</th>\n",
       "      <th>주기</th>\n",
       "      <th>타인자본비율(%)</th>\n",
       "      <th>자기자본비율(%)</th>\n",
       "      <th>차입금의존도(%)</th>\n",
       "      <th>현금및현금성자산구성비율(%)</th>\n",
       "      <th>...</th>\n",
       "      <th>현금흐름/영업수익(%)</th>\n",
       "      <th>현금흐름/총부채(%)</th>\n",
       "      <th>현금흐름/총자본(%)</th>\n",
       "      <th>현금흐름/총자산(%)</th>\n",
       "      <th>현금흐름/총차입부채(%)</th>\n",
       "      <th>유보율(%)</th>\n",
       "      <th>유보액/총자산(%)</th>\n",
       "      <th>시가총액(1YRF)</th>\n",
       "      <th>시가총액(2YRF)</th>\n",
       "      <th>Target</th>\n",
       "    </tr>\n",
       "  </thead>\n",
       "  <tbody>\n",
       "    <tr>\n",
       "      <th>0</th>\n",
       "      <td>368</td>\n",
       "      <td>A005930</td>\n",
       "      <td>삼성전자</td>\n",
       "      <td>12.0</td>\n",
       "      <td>2017</td>\n",
       "      <td>Annual</td>\n",
       "      <td>28.92</td>\n",
       "      <td>71.08</td>\n",
       "      <td>6.23</td>\n",
       "      <td>10.12</td>\n",
       "      <td>...</td>\n",
       "      <td>26.49</td>\n",
       "      <td>81.12</td>\n",
       "      <td>31.15</td>\n",
       "      <td>22.51</td>\n",
       "      <td>372.25</td>\n",
       "      <td>23681.42</td>\n",
       "      <td>70.44</td>\n",
       "      <td>231030585</td>\n",
       "      <td>328942963</td>\n",
       "      <td>0</td>\n",
       "    </tr>\n",
       "    <tr>\n",
       "      <th>1</th>\n",
       "      <td>369</td>\n",
       "      <td>A000660</td>\n",
       "      <td>SK하이닉스</td>\n",
       "      <td>12.0</td>\n",
       "      <td>2017</td>\n",
       "      <td>Annual</td>\n",
       "      <td>25.53</td>\n",
       "      <td>74.47</td>\n",
       "      <td>9.18</td>\n",
       "      <td>6.50</td>\n",
       "      <td>...</td>\n",
       "      <td>52.04</td>\n",
       "      <td>158.34</td>\n",
       "      <td>54.17</td>\n",
       "      <td>40.36</td>\n",
       "      <td>368.34</td>\n",
       "      <td>845.61</td>\n",
       "      <td>68.10</td>\n",
       "      <td>44044143</td>\n",
       "      <td>55692181</td>\n",
       "      <td>0</td>\n",
       "    </tr>\n",
       "    <tr>\n",
       "      <th>2</th>\n",
       "      <td>370</td>\n",
       "      <td>A068270</td>\n",
       "      <td>셀트리온</td>\n",
       "      <td>12.0</td>\n",
       "      <td>2017</td>\n",
       "      <td>Annual</td>\n",
       "      <td>26.65</td>\n",
       "      <td>73.35</td>\n",
       "      <td>19.33</td>\n",
       "      <td>12.64</td>\n",
       "      <td>...</td>\n",
       "      <td>50.62</td>\n",
       "      <td>56.30</td>\n",
       "      <td>20.75</td>\n",
       "      <td>15.16</td>\n",
       "      <td>72.80</td>\n",
       "      <td>1823.77</td>\n",
       "      <td>67.48</td>\n",
       "      <td>27913990</td>\n",
       "      <td>27121546</td>\n",
       "      <td>0</td>\n",
       "    </tr>\n",
       "  </tbody>\n",
       "</table>\n",
       "<p>3 rows × 27 columns</p>\n",
       "</div>"
      ],
      "text/plain": [
       "   Unnamed: 0   Symbol    Name   결산월   회계년      주기  타인자본비율(%)  자기자본비율(%)  \\\n",
       "0         368  A005930    삼성전자  12.0  2017  Annual      28.92      71.08   \n",
       "1         369  A000660  SK하이닉스  12.0  2017  Annual      25.53      74.47   \n",
       "2         370  A068270    셀트리온  12.0  2017  Annual      26.65      73.35   \n",
       "\n",
       "   차입금의존도(%)  현금및현금성자산구성비율(%)  ...  현금흐름/영업수익(%)  현금흐름/총부채(%)  현금흐름/총자본(%)  \\\n",
       "0       6.23            10.12  ...         26.49        81.12        31.15   \n",
       "1       9.18             6.50  ...         52.04       158.34        54.17   \n",
       "2      19.33            12.64  ...         50.62        56.30        20.75   \n",
       "\n",
       "   현금흐름/총자산(%)  현금흐름/총차입부채(%)    유보율(%)  유보액/총자산(%)  시가총액(1YRF)  시가총액(2YRF)  \\\n",
       "0        22.51         372.25  23681.42       70.44   231030585   328942963   \n",
       "1        40.36         368.34    845.61       68.10    44044143    55692181   \n",
       "2        15.16          72.80   1823.77       67.48    27913990    27121546   \n",
       "\n",
       "   Target  \n",
       "0       0  \n",
       "1       0  \n",
       "2       0  \n",
       "\n",
       "[3 rows x 27 columns]"
      ]
     },
     "execution_count": 4,
     "metadata": {},
     "output_type": "execute_result"
    }
   ],
   "source": [
    "df.head(3)"
   ]
  },
  {
   "cell_type": "code",
   "execution_count": 5,
   "metadata": {},
   "outputs": [
    {
     "data": {
      "text/plain": [
       "(1132, 27)"
      ]
     },
     "execution_count": 5,
     "metadata": {},
     "output_type": "execute_result"
    }
   ],
   "source": [
    "df.shape"
   ]
  },
  {
   "cell_type": "code",
   "execution_count": 6,
   "metadata": {},
   "outputs": [],
   "source": [
    "# 한글 도메인을 영문으로 변경\n",
    "\n",
    "col = {'결산월':'settle_month',\n",
    "       '회계년':'Fiscal_year',\n",
    "       '주기':'cycle',\n",
    "       '타인자본비율(%)':'Captal_ratio_others',\n",
    "       '자기자본비율(%)':'Equity_Capital_Ratio',\n",
    "       '차입금의존도(%)':'Borrowing_dependence',\n",
    "       '현금및현금성자산구성비율(%)':'Cash_cash_equivalents',\n",
    "       '유형자산구성비율(%)':'Tangible_assets',\n",
    "       '무형자산구성비율(%)':'Intangibel_assets',\n",
    "       '부채비율(%)':'Debt_ratio',\n",
    "       '차입금비율(%)':'Borrowings_ratio',\n",
    "       '총자산/총자본(%)':'Total_assets/Total_capital',\n",
    "       '차입부채조달금리(평균)(%)':'Funding_cost(avg)',\n",
    "       '차입부채조달금리(기말)(%)':'Funding_cost(final)',\n",
    "       '현금흐름/영업수익(%)':'Cash/operating_revenue ',\n",
    "       '현금흐름/총부채(%)':'CashF/debt',\n",
    "       '현금흐름/총자본(%)':'CashF/total_capital',\n",
    "       '현금흐름/총자산(%)':'CashF/total_asset',\n",
    "       '현금흐름/총차입부채(%)':'CashF/total_Debt',\n",
    "       '유보율(%)':'Reservation_rate',\n",
    "       '유보액/총자산(%)':'Reservation/total_asset',\n",
    "       '시가총액(1YRF)':'Market_cap(1YRF)',\n",
    "       '시가총액(2YRF)':'Market_cap(2YRF)'\n",
    "       }\n",
    "\n",
    "df.rename(columns=col, inplace = True)"
   ]
  },
  {
   "cell_type": "code",
   "execution_count": 7,
   "metadata": {},
   "outputs": [
    {
     "data": {
      "text/html": [
       "<div>\n",
       "<style scoped>\n",
       "    .dataframe tbody tr th:only-of-type {\n",
       "        vertical-align: middle;\n",
       "    }\n",
       "\n",
       "    .dataframe tbody tr th {\n",
       "        vertical-align: top;\n",
       "    }\n",
       "\n",
       "    .dataframe thead th {\n",
       "        text-align: right;\n",
       "    }\n",
       "</style>\n",
       "<table border=\"1\" class=\"dataframe\">\n",
       "  <thead>\n",
       "    <tr style=\"text-align: right;\">\n",
       "      <th></th>\n",
       "      <th>Unnamed: 0</th>\n",
       "      <th>Symbol</th>\n",
       "      <th>Name</th>\n",
       "      <th>settle_month</th>\n",
       "      <th>Fiscal_year</th>\n",
       "      <th>cycle</th>\n",
       "      <th>Captal_ratio_others</th>\n",
       "      <th>Equity_Capital_Ratio</th>\n",
       "      <th>Borrowing_dependence</th>\n",
       "      <th>Cash_cash_equivalents</th>\n",
       "      <th>...</th>\n",
       "      <th>Cash/operating_revenue</th>\n",
       "      <th>CashF/debt</th>\n",
       "      <th>CashF/total_capital</th>\n",
       "      <th>CashF/total_asset</th>\n",
       "      <th>CashF/total_Debt</th>\n",
       "      <th>Reservation_rate</th>\n",
       "      <th>Reservation/total_asset</th>\n",
       "      <th>Market_cap(1YRF)</th>\n",
       "      <th>Market_cap(2YRF)</th>\n",
       "      <th>Target</th>\n",
       "    </tr>\n",
       "  </thead>\n",
       "  <tbody>\n",
       "    <tr>\n",
       "      <th>0</th>\n",
       "      <td>368</td>\n",
       "      <td>A005930</td>\n",
       "      <td>삼성전자</td>\n",
       "      <td>12.0</td>\n",
       "      <td>2017</td>\n",
       "      <td>Annual</td>\n",
       "      <td>28.92</td>\n",
       "      <td>71.08</td>\n",
       "      <td>6.23</td>\n",
       "      <td>10.12</td>\n",
       "      <td>...</td>\n",
       "      <td>26.49</td>\n",
       "      <td>81.12</td>\n",
       "      <td>31.15</td>\n",
       "      <td>22.51</td>\n",
       "      <td>372.25</td>\n",
       "      <td>23681.42</td>\n",
       "      <td>70.44</td>\n",
       "      <td>231030585</td>\n",
       "      <td>328942963</td>\n",
       "      <td>0</td>\n",
       "    </tr>\n",
       "    <tr>\n",
       "      <th>1</th>\n",
       "      <td>369</td>\n",
       "      <td>A000660</td>\n",
       "      <td>SK하이닉스</td>\n",
       "      <td>12.0</td>\n",
       "      <td>2017</td>\n",
       "      <td>Annual</td>\n",
       "      <td>25.53</td>\n",
       "      <td>74.47</td>\n",
       "      <td>9.18</td>\n",
       "      <td>6.50</td>\n",
       "      <td>...</td>\n",
       "      <td>52.04</td>\n",
       "      <td>158.34</td>\n",
       "      <td>54.17</td>\n",
       "      <td>40.36</td>\n",
       "      <td>368.34</td>\n",
       "      <td>845.61</td>\n",
       "      <td>68.10</td>\n",
       "      <td>44044143</td>\n",
       "      <td>55692181</td>\n",
       "      <td>0</td>\n",
       "    </tr>\n",
       "    <tr>\n",
       "      <th>2</th>\n",
       "      <td>370</td>\n",
       "      <td>A068270</td>\n",
       "      <td>셀트리온</td>\n",
       "      <td>12.0</td>\n",
       "      <td>2017</td>\n",
       "      <td>Annual</td>\n",
       "      <td>26.65</td>\n",
       "      <td>73.35</td>\n",
       "      <td>19.33</td>\n",
       "      <td>12.64</td>\n",
       "      <td>...</td>\n",
       "      <td>50.62</td>\n",
       "      <td>56.30</td>\n",
       "      <td>20.75</td>\n",
       "      <td>15.16</td>\n",
       "      <td>72.80</td>\n",
       "      <td>1823.77</td>\n",
       "      <td>67.48</td>\n",
       "      <td>27913990</td>\n",
       "      <td>27121546</td>\n",
       "      <td>0</td>\n",
       "    </tr>\n",
       "  </tbody>\n",
       "</table>\n",
       "<p>3 rows × 27 columns</p>\n",
       "</div>"
      ],
      "text/plain": [
       "   Unnamed: 0   Symbol    Name  settle_month  Fiscal_year   cycle  \\\n",
       "0         368  A005930    삼성전자          12.0         2017  Annual   \n",
       "1         369  A000660  SK하이닉스          12.0         2017  Annual   \n",
       "2         370  A068270    셀트리온          12.0         2017  Annual   \n",
       "\n",
       "   Captal_ratio_others  Equity_Capital_Ratio  Borrowing_dependence  \\\n",
       "0                28.92                 71.08                  6.23   \n",
       "1                25.53                 74.47                  9.18   \n",
       "2                26.65                 73.35                 19.33   \n",
       "\n",
       "   Cash_cash_equivalents  ...  Cash/operating_revenue   CashF/debt  \\\n",
       "0                  10.12  ...                    26.49       81.12   \n",
       "1                   6.50  ...                    52.04      158.34   \n",
       "2                  12.64  ...                    50.62       56.30   \n",
       "\n",
       "   CashF/total_capital  CashF/total_asset  CashF/total_Debt  Reservation_rate  \\\n",
       "0                31.15              22.51            372.25          23681.42   \n",
       "1                54.17              40.36            368.34            845.61   \n",
       "2                20.75              15.16             72.80           1823.77   \n",
       "\n",
       "   Reservation/total_asset  Market_cap(1YRF)  Market_cap(2YRF)  Target  \n",
       "0                    70.44         231030585         328942963       0  \n",
       "1                    68.10          44044143          55692181       0  \n",
       "2                    67.48          27913990          27121546       0  \n",
       "\n",
       "[3 rows x 27 columns]"
      ]
     },
     "execution_count": 7,
     "metadata": {},
     "output_type": "execute_result"
    }
   ],
   "source": [
    "df.head(3)"
   ]
  },
  {
   "cell_type": "code",
   "execution_count": 8,
   "metadata": {},
   "outputs": [
    {
     "data": {
      "text/plain": [
       "Text(0.5, 1.0, 'Class Distributions \\n (0: Listed || Dislisted: Fraud)')"
      ]
     },
     "execution_count": 8,
     "metadata": {},
     "output_type": "execute_result"
    },
    {
     "data": {
      "image/png": "[encoded data removed]",
      "text/plain": [
       "<Figure size 432x288 with 1 Axes>"
      ]
     },
     "metadata": {
      "needs_background": "light"
     },
     "output_type": "display_data"
    }
   ],
   "source": [
    "sns.countplot('Target', data=df)\n",
    "plt.title('Class Distributions \\n (0: Listed || Dislisted: Fraud)', fontsize=14)"
   ]
  },
  {
   "cell_type": "code",
   "execution_count": 9,
   "metadata": {},
   "outputs": [],
   "source": [
    "# Random over-sampling\n",
    "# Class count\n",
    "count_0, count_1 = df.Target.value_counts()\n",
    "\n",
    "# Divide by class\n",
    "df_class_0 = df[df['Target'] == 0]\n",
    "df_class_1 = df[df['Target'] == 1]"
   ]
  },
  {
   "cell_type": "code",
   "execution_count": 10,
   "metadata": {},
   "outputs": [
    {
     "name": "stdout",
     "output_type": "stream",
     "text": [
      "Random over-sampling:\n",
      "1    762\n",
      "0    762\n",
      "Name: Target, dtype: int64\n"
     ]
    },
    {
     "data": {
      "text/plain": [
       "Text(0.5, 1.0, 'Class Distributions \\n (0: Listed || Dislisted: Fraud)')"
      ]
     },
     "execution_count": 10,
     "metadata": {},
     "output_type": "execute_result"
    },
    {
     "data": {
      "image/png": "[encoded data removed]",
      "text/plain": [
       "<Figure size 432x288 with 1 Axes>"
      ]
     },
     "metadata": {
      "needs_background": "light"
     },
     "output_type": "display_data"
    }
   ],
   "source": [
    "df_class_1_over = df_class_1.sample(count_0, replace=True)\n",
    "df_test_over = pd.concat([df_class_0, df_class_1_over], axis=0)\n",
    "\n",
    "print('Random over-sampling:')\n",
    "print(df_test_over.Target.value_counts())\n",
    "\n",
    "#df_test_over.Target.value_counts().plot(kind='bar', title='Count (target)');\n",
    "\n",
    "sns.countplot('Target', data=df_test_over)\n",
    "plt.title('Class Distributions \\n (0: Listed || Dislisted: Fraud)', fontsize=14)"
   ]
  },
  {
   "cell_type": "code",
   "execution_count": 11,
   "metadata": {},
   "outputs": [],
   "source": [
    "# 의미있는 feature만을 사용\n",
    "x = df_test_over[select_col]\n",
    "#x = df_test_over.drop([\"Target\", \"Name\", \"Unnamed: 0\",\"Symbol\", \"settle_month\",\"Fiscal_year\",\"cycle\"], axis = 1)\n",
    "y = df_test_over.Target"
   ]
  },
  {
   "cell_type": "code",
   "execution_count": 12,
   "metadata": {},
   "outputs": [],
   "source": [
    "train_X, val_X, train_y, val_y = train_test_split(x, y, random_state = 0)"
   ]
  },
  {
   "cell_type": "code",
   "execution_count": 50,
   "metadata": {},
   "outputs": [
    {
     "name": "stdout",
     "output_type": "stream",
     "text": [
      "Accuracy: 0.8136482939632546\n",
      "Precision: 0.7914438502673797\n",
      "Recall: 0.8222222222222222\n",
      "F1: 0.8065395095367848\n",
      "Area under precision Recall: 0.7347322226432926\n"
     ]
    }
   ],
   "source": [
    "# 로지스틱회귀\n",
    "\n",
    "logreg = LogisticRegression()\n",
    "logreg.fit(train_X, train_y)\n",
    "y_pred = logreg.predict(val_X)\n",
    "print(\"Accuracy:\", logreg.score(val_X, val_y))\n",
    "print(\"Precision:\", precision_score(val_y, y_pred))\n",
    "print(\"Recall:\", recall_score(val_y, y_pred))\n",
    "print(\"F1:\", f1_score(val_y, y_pred))\n",
    "print(\"Area under precision Recall:\", average_precision_score(val_y, y_pred))\n",
    "\n",
    "logreg_result = {}\n",
    "\n",
    "logreg_result['accuracy'] = round(logreg.score(val_X, val_y),4)\n",
    "logreg_result['precision'] = round(precision_score(val_y, y_pred),4)\n",
    "logreg_result['recall'] = round(recall_score(val_y, y_pred),4)\n",
    "logreg_result['F1'] = round(f1_score(val_y, y_pred),4)\n",
    "logreg_result['Area under precision Recall'] = round(average_precision_score(val_y, y_pred),4)"
   ]
  },
  {
   "cell_type": "code",
   "execution_count": 14,
   "metadata": {},
   "outputs": [
    {
     "name": "stdout",
     "output_type": "stream",
     "text": [
      "Accuracy: 0.8293963254593176\n",
      "Precision: 0.852760736196319\n",
      "Recall: 0.7722222222222223\n",
      "F1: 0.8104956268221575\n",
      "Area under precision Recall: 0.76613233928581\n"
     ]
    }
   ],
   "source": [
    "# k-최근접 이웃 \n",
    "\n",
    "neiclassifier = KNeighborsClassifier(n_neighbors=2)  \n",
    "neiclassifier.fit(train_X, train_y)\n",
    "y_pred = neiclassifier.predict(val_X)\n",
    "print(\"Accuracy:\", neiclassifier.score(val_X, val_y))\n",
    "print(\"Precision:\", precision_score(val_y, y_pred))\n",
    "print(\"Recall:\", recall_score(val_y, y_pred))\n",
    "print(\"F1:\", f1_score(val_y, y_pred))\n",
    "print(\"Area under precision Recall:\", average_precision_score(val_y, y_pred))\n",
    "\n",
    "kn_result = {}\n",
    "\n",
    "kn_result['accuracy'] = round(neiclassifier.score(val_X, val_y),4)\n",
    "kn_result['precision'] = round(precision_score(val_y, y_pred),4)\n",
    "kn_result['recall'] = round(recall_score(val_y, y_pred),4)\n",
    "kn_result['F1'] = round(f1_score(val_y, y_pred),4)\n",
    "kn_result['Area under precision Recall'] = round(average_precision_score(val_y, y_pred),4)"
   ]
  },
  {
   "cell_type": "code",
   "execution_count": 15,
   "metadata": {},
   "outputs": [
    {
     "name": "stdout",
     "output_type": "stream",
     "text": [
      "Accuracy: 0.8582677165354331\n",
      "Precision: 0.842391304347826\n",
      "Recall: 0.8611111111111112\n",
      "F1: 0.8516483516483516\n",
      "Area under precision Recall: 0.7910093099775571\n"
     ]
    }
   ],
   "source": [
    "# 의사결정트리\n",
    "\n",
    "treeclassifier = tree.DecisionTreeClassifier(criterion = 'entropy', max_depth = 4, random_state=0)  \n",
    "treeclassifier.fit(train_X, train_y)\n",
    "y_pred = treeclassifier.predict(val_X)\n",
    "print(\"Accuracy:\", treeclassifier.score(val_X, val_y))\n",
    "print(\"Precision:\", precision_score(val_y, y_pred))\n",
    "print(\"Recall:\", recall_score(val_y, y_pred))\n",
    "print(\"F1:\", f1_score(val_y, y_pred))\n",
    "print(\"Area under precision Recall:\", average_precision_score(val_y, y_pred))\n",
    "\n",
    "dt_result = {}\n",
    "\n",
    "dt_result['accuracy'] = round(treeclassifier.score(val_X, val_y),4)\n",
    "dt_result['precision'] = round(precision_score(val_y, y_pred),4)\n",
    "dt_result['recall'] = round(recall_score(val_y, y_pred),4)\n",
    "dt_result['F1'] = round(f1_score(val_y, y_pred),4)\n",
    "dt_result['Area under precision Recall'] = round(average_precision_score(val_y, y_pred),4)"
   ]
  },
  {
   "cell_type": "code",
   "execution_count": 16,
   "metadata": {},
   "outputs": [
    {
     "name": "stdout",
     "output_type": "stream",
     "text": [
      "Accuracy: 0.9343832020997376\n",
      "Precision: 0.8934010152284264\n",
      "Recall: 0.9777777777777777\n",
      "F1: 0.9336870026525198\n",
      "Area under precision Recall: 0.8840463469985034\n"
     ]
    }
   ],
   "source": [
    "# 랜덤포레스트\n",
    "\n",
    "forest = RandomForestClassifier(random_state=0)\n",
    "forest.fit(train_X, train_y)\n",
    "y_pred = forest.predict(val_X)\n",
    "print(\"Accuracy:\", forest.score(val_X, val_y))\n",
    "print(\"Precision:\", precision_score(val_y, y_pred))\n",
    "print(\"Recall:\", recall_score(val_y, y_pred))\n",
    "print(\"F1:\", f1_score(val_y, y_pred))\n",
    "print(\"Area under precision Recall:\", average_precision_score(val_y, y_pred))\n",
    "\n",
    "rf_result = {}\n",
    "\n",
    "rf_result['accuracy'] = round(forest.score(val_X, val_y),4)\n",
    "rf_result['precision'] = round(precision_score(val_y, y_pred),4)\n",
    "rf_result['recall'] = round(recall_score(val_y, y_pred),4)\n",
    "rf_result['F1'] = round(f1_score(val_y, y_pred),4)\n",
    "rf_result['Area under precision Recall'] = round(average_precision_score(val_y, y_pred),4)"
   ]
  },
  {
   "cell_type": "code",
   "execution_count": 17,
   "metadata": {},
   "outputs": [
    {
     "name": "stdout",
     "output_type": "stream",
     "text": [
      "Accuracy: 0.8871391076115486\n",
      "Precision: 0.8624338624338624\n",
      "Recall: 0.9055555555555556\n",
      "F1: 0.8834688346883468\n",
      "Area under precision Recall: 0.8256011979983983\n"
     ]
    }
   ],
   "source": [
    "# 아다부스트\n",
    "\n",
    "ada = AdaBoostClassifier(random_state=0)\n",
    "ada.fit(train_X, train_y)\n",
    "y_pred = ada.predict(val_X)\n",
    "print(\"Accuracy:\", ada.score(val_X, val_y))\n",
    "print(\"Precision:\", precision_score(val_y, y_pred))\n",
    "print(\"Recall:\", recall_score(val_y, y_pred))\n",
    "print(\"F1:\", f1_score(val_y, y_pred))\n",
    "print(\"Area under precision Recall:\", average_precision_score(val_y, y_pred))\n",
    "\n",
    "ada_result = {}\n",
    "\n",
    "ada_result['accuracy'] = round(ada.score(val_X, val_y),4)\n",
    "ada_result['precision'] = round(precision_score(val_y, y_pred),4)\n",
    "ada_result['recall'] = round(recall_score(val_y, y_pred),4)\n",
    "ada_result['F1'] = round(f1_score(val_y, y_pred),4)\n",
    "ada_result['Area under precision Recall'] = round(average_precision_score(val_y, y_pred),4)"
   ]
  },
  {
   "cell_type": "code",
   "execution_count": 18,
   "metadata": {},
   "outputs": [
    {
     "name": "stdout",
     "output_type": "stream",
     "text": [
      "Accuracy: 0.9081364829396326\n",
      "Precision: 0.8795811518324608\n",
      "Recall: 0.9333333333333333\n",
      "F1: 0.9056603773584906\n",
      "Area under precision Recall: 0.8524384713690893\n"
     ]
    }
   ],
   "source": [
    "# 그레디언트부스팅\n",
    "\n",
    "gred = GradientBoostingClassifier(random_state=0)\n",
    "gred.fit(train_X, train_y)\n",
    "y_pred = gred.predict(val_X)\n",
    "print(\"Accuracy:\", gred.score(val_X, val_y))\n",
    "print(\"Precision:\", precision_score(val_y, y_pred))\n",
    "print(\"Recall:\", recall_score(val_y, y_pred))\n",
    "print(\"F1:\", f1_score(val_y, y_pred))\n",
    "print(\"Area under precision Recall:\", average_precision_score(val_y, y_pred))\n",
    "\n",
    "gred_result = {}\n",
    "\n",
    "gred_result['accuracy'] = round(gred.score(val_X, val_y),4)\n",
    "gred_result['precision'] = round(precision_score(val_y, y_pred),4)\n",
    "gred_result['recall'] = round(recall_score(val_y, y_pred),4)\n",
    "gred_result['F1'] = round(f1_score(val_y, y_pred),4)\n",
    "gred_result['Area under precision Recall'] = round(average_precision_score(val_y, y_pred),4)"
   ]
  },
  {
   "cell_type": "code",
   "execution_count": 19,
   "metadata": {},
   "outputs": [
    {
     "name": "stdout",
     "output_type": "stream",
     "text": [
      "Accuracy: 0.89501312335958\n",
      "Precision: 0.8723404255319149\n",
      "Recall: 0.9111111111111111\n",
      "F1: 0.891304347826087\n",
      "Area under precision Recall: 0.8367938050296905\n"
     ]
    }
   ],
   "source": [
    "# XgBoosting\n",
    "\n",
    "xgbs = XGBClassifier(random_state=0)\n",
    "xgbs.fit(train_X, train_y)\n",
    "y_pred = xgbs.predict(val_X)\n",
    "print(\"Accuracy:\", xgbs.score(val_X, val_y))\n",
    "print(\"Precision:\", precision_score(val_y, y_pred))\n",
    "print(\"Recall:\", recall_score(val_y, y_pred))\n",
    "print(\"F1:\", f1_score(val_y, y_pred))\n",
    "print(\"Area under precision Recall:\", average_precision_score(val_y, y_pred))\n",
    "\n",
    "xgbs_result = {}\n",
    "\n",
    "xgbs_result['accuracy'] = round(xgbs.score(val_X, val_y),4)\n",
    "xgbs_result['precision'] = round(precision_score(val_y, y_pred),4)\n",
    "xgbs_result['recall'] = round(recall_score(val_y, y_pred),4)\n",
    "xgbs_result['F1'] = round(f1_score(val_y, y_pred),4)\n",
    "xgbs_result['Area under precision Recall'] = round(average_precision_score(val_y, y_pred),4)\n"
   ]
  },
  {
   "cell_type": "code",
   "execution_count": 49,
   "metadata": {},
   "outputs": [
    {
     "data": {
      "text/html": [
       "<div>\n",
       "<style scoped>\n",
       "    .dataframe tbody tr th:only-of-type {\n",
       "        vertical-align: middle;\n",
       "    }\n",
       "\n",
       "    .dataframe tbody tr th {\n",
       "        vertical-align: top;\n",
       "    }\n",
       "\n",
       "    .dataframe thead th {\n",
       "        text-align: right;\n",
       "    }\n",
       "</style>\n",
       "<table border=\"1\" class=\"dataframe\">\n",
       "  <thead>\n",
       "    <tr style=\"text-align: right;\">\n",
       "      <th></th>\n",
       "      <th>accuracy</th>\n",
       "      <th>precision</th>\n",
       "      <th>recall</th>\n",
       "      <th>F1</th>\n",
       "      <th>Area under precision Recall</th>\n",
       "    </tr>\n",
       "  </thead>\n",
       "  <tbody>\n",
       "    <tr>\n",
       "      <th>Logistic Regression</th>\n",
       "      <td>0.8136</td>\n",
       "      <td>0.7914</td>\n",
       "      <td>0.8222</td>\n",
       "      <td>0.8065</td>\n",
       "      <td>0.7347</td>\n",
       "    </tr>\n",
       "    <tr>\n",
       "      <th>k-nearest neighbor</th>\n",
       "      <td>0.8294</td>\n",
       "      <td>0.8528</td>\n",
       "      <td>0.7722</td>\n",
       "      <td>0.8105</td>\n",
       "      <td>0.7661</td>\n",
       "    </tr>\n",
       "    <tr>\n",
       "      <th>Decision Tree</th>\n",
       "      <td>0.8583</td>\n",
       "      <td>0.8424</td>\n",
       "      <td>0.8611</td>\n",
       "      <td>0.8516</td>\n",
       "      <td>0.7910</td>\n",
       "    </tr>\n",
       "    <tr>\n",
       "      <th>Random Forest</th>\n",
       "      <td>0.9344</td>\n",
       "      <td>0.8934</td>\n",
       "      <td>0.9778</td>\n",
       "      <td>0.9337</td>\n",
       "      <td>0.8840</td>\n",
       "    </tr>\n",
       "    <tr>\n",
       "      <th>Ada boost</th>\n",
       "      <td>0.8871</td>\n",
       "      <td>0.8624</td>\n",
       "      <td>0.9056</td>\n",
       "      <td>0.8835</td>\n",
       "      <td>0.8256</td>\n",
       "    </tr>\n",
       "    <tr>\n",
       "      <th>Gredient Boost</th>\n",
       "      <td>0.9081</td>\n",
       "      <td>0.8796</td>\n",
       "      <td>0.9333</td>\n",
       "      <td>0.9057</td>\n",
       "      <td>0.8524</td>\n",
       "    </tr>\n",
       "    <tr>\n",
       "      <th>XGBoost</th>\n",
       "      <td>0.8950</td>\n",
       "      <td>0.8723</td>\n",
       "      <td>0.9111</td>\n",
       "      <td>0.8913</td>\n",
       "      <td>0.8368</td>\n",
       "    </tr>\n",
       "  </tbody>\n",
       "</table>\n",
       "</div>"
      ],
      "text/plain": [
       "                     accuracy  precision  recall      F1  \\\n",
       "Logistic Regression    0.8136     0.7914  0.8222  0.8065   \n",
       "k-nearest neighbor     0.8294     0.8528  0.7722  0.8105   \n",
       "Decision Tree          0.8583     0.8424  0.8611  0.8516   \n",
       "Random Forest          0.9344     0.8934  0.9778  0.9337   \n",
       "Ada boost              0.8871     0.8624  0.9056  0.8835   \n",
       "Gredient Boost         0.9081     0.8796  0.9333  0.9057   \n",
       "XGBoost                0.8950     0.8723  0.9111  0.8913   \n",
       "\n",
       "                     Area under precision Recall  \n",
       "Logistic Regression                       0.7347  \n",
       "k-nearest neighbor                        0.7661  \n",
       "Decision Tree                             0.7910  \n",
       "Random Forest                             0.8840  \n",
       "Ada boost                                 0.8256  \n",
       "Gredient Boost                            0.8524  \n",
       "XGBoost                                   0.8368  "
      ]
     },
     "execution_count": 49,
     "metadata": {},
     "output_type": "execute_result"
    }
   ],
   "source": [
    "final_results = pd.DataFrame([logreg_result, kn_result,dt_result,rf_result,ada_result,gred_result,xgbs_result],\n",
    "                            index=['Logistic Regression', 'k-nearest neighbor', 'Decision Tree', 'Random Forest',\n",
    "                                  'Ada boost', 'Gredient Boost', 'XGBoost'])\n",
    "final_results"
   ]
  },
  {
   "cell_type": "code",
   "execution_count": 55,
   "metadata": {},
   "outputs": [
    {
     "name": "stderr",
     "output_type": "stream",
     "text": [
      "C:\\Users\\kt347\\Anaconda3\\lib\\site-packages\\sklearn\\model_selection\\_validation.py:536: FitFailedWarning: Estimator fit failed. The score on this train-test partition for these parameters will be set to nan. Details: \n",
      "ValueError: Solver lbfgs supports only 'l2' or 'none' penalties, got l1 penalty.\n",
      "\n",
      "  FitFailedWarning)\n",
      "C:\\Users\\kt347\\Anaconda3\\lib\\site-packages\\sklearn\\model_selection\\_validation.py:536: FitFailedWarning: Estimator fit failed. The score on this train-test partition for these parameters will be set to nan. Details: \n",
      "ValueError: Solver lbfgs supports only 'l2' or 'none' penalties, got l1 penalty.\n",
      "\n",
      "  FitFailedWarning)\n",
      "C:\\Users\\kt347\\Anaconda3\\lib\\site-packages\\sklearn\\model_selection\\_validation.py:536: FitFailedWarning: Estimator fit failed. The score on this train-test partition for these parameters will be set to nan. Details: \n",
      "ValueError: Solver lbfgs supports only 'l2' or 'none' penalties, got l1 penalty.\n",
      "\n",
      "  FitFailedWarning)\n",
      "C:\\Users\\kt347\\Anaconda3\\lib\\site-packages\\sklearn\\model_selection\\_validation.py:536: FitFailedWarning: Estimator fit failed. The score on this train-test partition for these parameters will be set to nan. Details: \n",
      "ValueError: Solver lbfgs supports only 'l2' or 'none' penalties, got l1 penalty.\n",
      "\n",
      "  FitFailedWarning)\n",
      "C:\\Users\\kt347\\Anaconda3\\lib\\site-packages\\sklearn\\model_selection\\_validation.py:536: FitFailedWarning: Estimator fit failed. The score on this train-test partition for these parameters will be set to nan. Details: \n",
      "ValueError: Solver lbfgs supports only 'l2' or 'none' penalties, got l1 penalty.\n",
      "\n",
      "  FitFailedWarning)\n",
      "C:\\Users\\kt347\\Anaconda3\\lib\\site-packages\\sklearn\\model_selection\\_validation.py:536: FitFailedWarning: Estimator fit failed. The score on this train-test partition for these parameters will be set to nan. Details: \n",
      "ValueError: Solver lbfgs supports only 'l2' or 'none' penalties, got l1 penalty.\n",
      "\n",
      "  FitFailedWarning)\n"
     ]
    },
    {
     "name": "stdout",
     "output_type": "stream",
     "text": [
      "tuned hpyerparameters :(best parameters)  {'C': 0.001, 'penalty': 'l2'}\n",
      "Accuracy: 0.8136482939632546\n",
      "Precision: 0.7914438502673797\n",
      "Recall: 0.8222222222222222\n",
      "F1: 0.8065395095367848\n",
      "Area under precision Recall: 0.7347322226432926\n"
     ]
    },
    {
     "name": "stderr",
     "output_type": "stream",
     "text": [
      "C:\\Users\\kt347\\Anaconda3\\lib\\site-packages\\sklearn\\model_selection\\_validation.py:536: FitFailedWarning: Estimator fit failed. The score on this train-test partition for these parameters will be set to nan. Details: \n",
      "ValueError: Solver lbfgs supports only 'l2' or 'none' penalties, got l1 penalty.\n",
      "\n",
      "  FitFailedWarning)\n"
     ]
    }
   ],
   "source": [
    "# 로지스틱회귀 파라미터 튜닝\n",
    "\n",
    "grid={\"C\":np.logspace(-3,3,7), \"penalty\":[\"l1\",\"l2\"]}# l1 lasso l2 ridge\n",
    "logreg=LogisticRegression(random_state=0)\n",
    "logreg_cv=GridSearchCV(logreg, grid , cv=10)\n",
    "logreg_cv.fit(train_X,train_y)\n",
    "\n",
    "print(\"tuned hpyerparameters :(best parameters) \",logreg_cv.best_params_)\n",
    "\n",
    "y_pred = logreg_cv.predict(val_X)\n",
    "print(\"Accuracy:\", logreg_cv.score(val_X, val_y))\n",
    "print(\"Precision:\", precision_score(val_y, y_pred))\n",
    "print(\"Recall:\", recall_score(val_y, y_pred))\n",
    "print(\"F1:\", f1_score(val_y, y_pred))\n",
    "print(\"Area under precision Recall:\", average_precision_score(val_y, y_pred))\n",
    "\n",
    "logreg_result_cv = {}\n",
    "\n",
    "logreg_result_cv['accuracy_cv'] = round(logreg_cv.score(val_X, val_y),4)\n",
    "logreg_result_cv['precision_cv'] = round(precision_score(val_y, y_pred),4)\n",
    "logreg_result_cv['recall_cv'] = round(recall_score(val_y, y_pred),4)\n",
    "logreg_result_cv['F1_cv'] = round(f1_score(val_y, y_pred),4)\n",
    "logreg_result_cv['Area under precision Recall_cv'] = round(average_precision_score(val_y, y_pred),4)"
   ]
  },
  {
   "cell_type": "code",
   "execution_count": 22,
   "metadata": {},
   "outputs": [
    {
     "name": "stdout",
     "output_type": "stream",
     "text": [
      "Best Hyper Parameters:\n",
      " {'algorithm': 'auto', 'leaf_size': 1, 'n_jobs': -1, 'n_neighbors': 9, 'weights': 'distance'}\n",
      "Accuracy: 0.863517060367454\n",
      "Precision: 0.7990654205607477\n",
      "Recall: 0.95\n",
      "F1: 0.8680203045685279\n",
      "Area under precision Recall: 0.7827341967768048\n"
     ]
    }
   ],
   "source": [
    "# K-근접이웃 파라미터 튜닝\n",
    "\n",
    "neiclassifier = KNeighborsClassifier(n_neighbors=2)\n",
    "\n",
    "params = {'n_neighbors':[5,6,7,8,9,10],\n",
    "          'leaf_size':[1,2,3,5],\n",
    "          'weights':['uniform', 'distance'],\n",
    "          'algorithm':['auto', 'ball_tree','kd_tree','brute'],\n",
    "          'n_jobs':[-1]}\n",
    "\n",
    "neiclassifier_cv = GridSearchCV(neiclassifier, param_grid=params, n_jobs=1)\n",
    "\n",
    "neiclassifier_cv.fit(train_X,train_y)\n",
    "\n",
    "print(\"Best Hyper Parameters:\\n\",neiclassifier_cv.best_params_)\n",
    "\n",
    "y_pred = neiclassifier_cv.predict(val_X)\n",
    "print(\"Accuracy:\", neiclassifier_cv.score(val_X, val_y))\n",
    "print(\"Precision:\", precision_score(val_y, y_pred))\n",
    "print(\"Recall:\", recall_score(val_y, y_pred))\n",
    "print(\"F1:\", f1_score(val_y, y_pred))\n",
    "print(\"Area under precision Recall:\", average_precision_score(val_y, y_pred))\n",
    "\n",
    "kn_result_cv = {}\n",
    "\n",
    "kn_result_cv['accuracy_cv'] = round(neiclassifier_cv.score(val_X, val_y),4)\n",
    "kn_result_cv['precision_cv'] = round(precision_score(val_y, y_pred),4)\n",
    "kn_result_cv['recall_cv'] = round(recall_score(val_y, y_pred),4)\n",
    "kn_result_cv['F1_cv'] = round(f1_score(val_y, y_pred),4)\n",
    "kn_result_cv['Area under precision Recall_cv'] = round(average_precision_score(val_y, y_pred),4)"
   ]
  },
  {
   "cell_type": "code",
   "execution_count": 23,
   "metadata": {},
   "outputs": [
    {
     "name": "stdout",
     "output_type": "stream",
     "text": [
      "Best Hyper Parameters:\n",
      " DecisionTreeClassifier(ccp_alpha=0.0, class_weight=None, criterion='entropy',\n",
      "                       max_depth=8, max_features=None, max_leaf_nodes=None,\n",
      "                       min_impurity_decrease=0.0, min_impurity_split=None,\n",
      "                       min_samples_leaf=1, min_samples_split=4,\n",
      "                       min_weight_fraction_leaf=0.0, presort='deprecated',\n",
      "                       random_state=None, splitter='best')\n",
      "Accuracy: 0.9002624671916011\n",
      "Precision: 0.8858695652173914\n",
      "Recall: 0.9055555555555556\n",
      "F1: 0.8956043956043955\n",
      "Area under precision Recall: 0.8468235288523717\n"
     ]
    }
   ],
   "source": [
    "# 의사결정트리 파라미터 튜닝\n",
    "\n",
    "\n",
    "parameters = {'criterion':('gini', 'entropy'), \n",
    "              'min_samples_split':[2,3,4,5], \n",
    "              'max_depth':[1,2,3,4,5,6,7,8],\n",
    "              'class_weight':('balanced', None),\n",
    "                           }\n",
    "\n",
    "tr = tree.DecisionTreeClassifier()\n",
    "\n",
    "tr_cv = GridSearchCV(tr, parameters)\n",
    "tr_cv.fit(train_X, train_y)\n",
    "\n",
    "print(\"Best Hyper Parameters:\\n\",tr_cv.best_estimator_)\n",
    "\n",
    "y_pred = tr_cv.predict(val_X)\n",
    "print(\"Accuracy:\", tr_cv.score(val_X, val_y))\n",
    "print(\"Precision:\", precision_score(val_y, y_pred))\n",
    "print(\"Recall:\", recall_score(val_y, y_pred))\n",
    "print(\"F1:\", f1_score(val_y, y_pred))\n",
    "print(\"Area under precision Recall:\", average_precision_score(val_y, y_pred))\n",
    "\n",
    "dt_result_cv = {}\n",
    "\n",
    "dt_result_cv['accuracy_cv'] = round(tr_cv.score(val_X, val_y),4)\n",
    "dt_result_cv['precision_cv'] = round(precision_score(val_y, y_pred),4)\n",
    "dt_result_cv['recall_cv'] = round(recall_score(val_y, y_pred),4)\n",
    "dt_result_cv['F1_cv'] = round(f1_score(val_y, y_pred),4)\n",
    "dt_result_cv['Area under precision Recall_cv'] = round(average_precision_score(val_y, y_pred),4)"
   ]
  },
  {
   "cell_type": "code",
   "execution_count": 24,
   "metadata": {},
   "outputs": [
    {
     "name": "stdout",
     "output_type": "stream",
     "text": [
      "Best Hyper Parameters:\n",
      " {'criterion': 'entropy', 'max_depth': 8, 'max_features': 'auto', 'n_estimators': 200}\n",
      "Accuracy: 0.9186351706036745\n",
      "Precision: 0.9027027027027027\n",
      "Recall: 0.9277777777777778\n",
      "F1: 0.9150684931506851\n",
      "Area under precision Recall: 0.8716282424156441\n",
      "Wall time: 3min 24s\n"
     ]
    }
   ],
   "source": [
    "%%time\n",
    "\n",
    "# 랜덤포레스트 파라미터 튜닝\n",
    "\n",
    "rfc=RandomForestClassifier(random_state=0)\n",
    "\n",
    "param_grid = { \n",
    "    'n_estimators': [200, 500],\n",
    "    'max_features': ['auto', 'sqrt', 'log2'],\n",
    "    'max_depth' : [4,5,6,7,8],\n",
    "    'criterion' :['gini', 'entropy']\n",
    "}\n",
    "\n",
    "\n",
    "rf_cv = GridSearchCV(estimator=rfc, param_grid=param_grid, cv= 5)\n",
    "rf_cv.fit(train_X, train_y)\n",
    "\n",
    "print(\"Best Hyper Parameters:\\n\",rf_cv.best_params_)\n",
    "      \n",
    "y_pred = rf_cv.predict(val_X)\n",
    "print(\"Accuracy:\", rf_cv.score(val_X, val_y))\n",
    "print(\"Precision:\", precision_score(val_y, y_pred))\n",
    "print(\"Recall:\", recall_score(val_y, y_pred))\n",
    "print(\"F1:\", f1_score(val_y, y_pred))\n",
    "print(\"Area under precision Recall:\", average_precision_score(val_y, y_pred))\n",
    "\n",
    "rf_result_cv = {}\n",
    "\n",
    "rf_result_cv['accuracy_cv'] = round(rf_cv.score(val_X, val_y),4)\n",
    "rf_result_cv['precision_cv'] = round(precision_score(val_y, y_pred),4)\n",
    "rf_result_cv['recall_cv'] = round(recall_score(val_y, y_pred),4)\n",
    "rf_result_cv['F1_cv'] = round(f1_score(val_y, y_pred),4)\n",
    "rf_result_cv['Area under precision Recall_cv'] = round(average_precision_score(val_y, y_pred),4)"
   ]
  },
  {
   "cell_type": "code",
   "execution_count": 25,
   "metadata": {},
   "outputs": [
    {
     "name": "stderr",
     "output_type": "stream",
     "text": [
      "C:\\Users\\kt347\\Anaconda3\\lib\\site-packages\\sklearn\\model_selection\\_split.py:296: FutureWarning: Setting a random_state has no effect since shuffle is False. This will raise an error in 0.24. You should leave random_state to its default (None), or set shuffle=True.\n",
      "  FutureWarning\n"
     ]
    },
    {
     "name": "stdout",
     "output_type": "stream",
     "text": [
      "Best Hyper Parameters:\n",
      " AdaBoostClassifier(algorithm='SAMME.R', base_estimator=None, learning_rate=1,\n",
      "                   n_estimators=180, random_state=None)\n",
      "Accuracy: 0.9081364829396326\n",
      "Precision: 0.8835978835978836\n",
      "Recall: 0.9277777777777778\n",
      "F1: 0.905149051490515\n",
      "Area under precision Recall: 0.8539032158017286\n"
     ]
    }
   ],
   "source": [
    "# 아다부스트 파라미터 튜닝\n",
    "\n",
    "n_estimators = [100,140,145,150,160, 170,175,180,185];\n",
    "cv = StratifiedKFold(n_splits=10, random_state=0)\n",
    "learning_r = [0.1,1,0.01,0.5]\n",
    "\n",
    "parameters = {'n_estimators':n_estimators,\n",
    "              'learning_rate':learning_r   \n",
    "        }\n",
    "ada_cv = GridSearchCV(AdaBoostClassifier(base_estimator= None, ## If None, then the base estimator is a decision tree.\n",
    "                                     ),\n",
    "                                 param_grid=parameters,\n",
    "                                 cv=cv,\n",
    "                                 n_jobs = -1)\n",
    "ada_cv.fit(train_X,train_y) \n",
    "\n",
    "print(\"Best Hyper Parameters:\\n\",ada_cv.best_estimator_)\n",
    "\n",
    "y_pred = ada_cv.predict(val_X)\n",
    "print(\"Accuracy:\", ada_cv.score(val_X, val_y))\n",
    "print(\"Precision:\", precision_score(val_y, y_pred))\n",
    "print(\"Recall:\", recall_score(val_y, y_pred))\n",
    "print(\"F1:\", f1_score(val_y, y_pred))\n",
    "print(\"Area under precision Recall:\", average_precision_score(val_y, y_pred))\n",
    "\n",
    "ada_result_cv = {}\n",
    "\n",
    "ada_result_cv['accuracy_cv'] = round(ada_cv.score(val_X, val_y),4)\n",
    "ada_result_cv['precision_cv'] = round(precision_score(val_y, y_pred),4)\n",
    "ada_result_cv['recall_cv'] = round(recall_score(val_y, y_pred),4)\n",
    "ada_result_cv['F1_cv'] = round(f1_score(val_y, y_pred),4)\n",
    "ada_result_cv['Area under precision Recall_cv'] = round(average_precision_score(val_y, y_pred),4)"
   ]
  },
  {
   "cell_type": "code",
   "execution_count": 26,
   "metadata": {},
   "outputs": [
    {
     "name": "stderr",
     "output_type": "stream",
     "text": [
      "C:\\Users\\kt347\\Anaconda3\\lib\\site-packages\\sklearn\\model_selection\\_split.py:296: FutureWarning: Setting a random_state has no effect since shuffle is False. This will raise an error in 0.24. You should leave random_state to its default (None), or set shuffle=True.\n",
      "  FutureWarning\n"
     ]
    },
    {
     "name": "stdout",
     "output_type": "stream",
     "text": [
      "Best Hyper Parameters:\n",
      " GradientBoostingClassifier(ccp_alpha=0.0, criterion='friedman_mse', init=None,\n",
      "                           learning_rate=1, loss='deviance', max_depth=3,\n",
      "                           max_features=None, max_leaf_nodes=None,\n",
      "                           min_impurity_decrease=0.0, min_impurity_split=None,\n",
      "                           min_samples_leaf=1, min_samples_split=2,\n",
      "                           min_weight_fraction_leaf=0.0, n_estimators=100,\n",
      "                           n_iter_no_change=None, presort='deprecated',\n",
      "                           random_state=None, subsample=1.0, tol=0.0001,\n",
      "                           validation_fraction=0.1, verbose=0,\n",
      "                           warm_start=False)\n",
      "Accuracy: 0.9002624671916011\n",
      "Precision: 0.8446601941747572\n",
      "Recall: 0.9666666666666667\n",
      "F1: 0.9015544041450777\n",
      "Area under precision Recall: 0.832252885864995\n"
     ]
    }
   ],
   "source": [
    "# 그레디언트 부스트 파라미터 튜닝\n",
    "\n",
    "n_estimators = [100,140,145,150,160, 170,175,180,185];\n",
    "cv = StratifiedKFold(n_splits=10, random_state=0)\n",
    "learning_r = [0.1,1,0.01,0.5]\n",
    "\n",
    "parameters = {'n_estimators':n_estimators,\n",
    "              'learning_rate':learning_r\n",
    "              \n",
    "        }\n",
    "gred_cv = GridSearchCV(GradientBoostingClassifier(),\n",
    "                                 param_grid=parameters,\n",
    "                                 cv=cv,\n",
    "                                 n_jobs = -1)\n",
    "gred_cv.fit(train_X,train_y) \n",
    "\n",
    "print(\"Best Hyper Parameters:\\n\",gred_cv.best_estimator_)\n",
    "\n",
    "y_pred = gred_cv.predict(val_X)\n",
    "print(\"Accuracy:\", gred_cv.score(val_X, val_y))\n",
    "print(\"Precision:\", precision_score(val_y, y_pred))\n",
    "print(\"Recall:\", recall_score(val_y, y_pred))\n",
    "print(\"F1:\", f1_score(val_y, y_pred))\n",
    "print(\"Area under precision Recall:\", average_precision_score(val_y, y_pred))\n",
    "\n",
    "gred_result_cv = {}\n",
    "\n",
    "gred_result_cv['accuracy_cv'] = round(gred_cv.score(val_X, val_y),4)\n",
    "gred_result_cv['precision_cv'] = round(precision_score(val_y, y_pred),4)\n",
    "gred_result_cv['recall_cv'] = round(recall_score(val_y, y_pred),4)\n",
    "gred_result_cv['F1_cv'] = round(f1_score(val_y, y_pred),4)\n",
    "gred_result_cv['Area under precision Recall_cv'] = round(average_precision_score(val_y, y_pred),4)"
   ]
  },
  {
   "cell_type": "code",
   "execution_count": 27,
   "metadata": {},
   "outputs": [
    {
     "name": "stdout",
     "output_type": "stream",
     "text": [
      "Fitting 5 folds for each of 1 candidates, totalling 5 fits\n",
      "[CV] colsample_bytree=0.5, max_depth=2, n_estimators=1000, reg_alpha=0.03, subsample=0.6 \n"
     ]
    },
    {
     "name": "stderr",
     "output_type": "stream",
     "text": [
      "[Parallel(n_jobs=1)]: Using backend SequentialBackend with 1 concurrent workers.\n"
     ]
    },
    {
     "name": "stdout",
     "output_type": "stream",
     "text": [
      "[CV]  colsample_bytree=0.5, max_depth=2, n_estimators=1000, reg_alpha=0.03, subsample=0.6, total=   0.2s\n",
      "[CV] colsample_bytree=0.5, max_depth=2, n_estimators=1000, reg_alpha=0.03, subsample=0.6 \n"
     ]
    },
    {
     "name": "stderr",
     "output_type": "stream",
     "text": [
      "[Parallel(n_jobs=1)]: Done   1 out of   1 | elapsed:    0.1s remaining:    0.0s\n"
     ]
    },
    {
     "name": "stdout",
     "output_type": "stream",
     "text": [
      "[CV]  colsample_bytree=0.5, max_depth=2, n_estimators=1000, reg_alpha=0.03, subsample=0.6, total=   0.2s\n",
      "[CV] colsample_bytree=0.5, max_depth=2, n_estimators=1000, reg_alpha=0.03, subsample=0.6 \n",
      "[CV]  colsample_bytree=0.5, max_depth=2, n_estimators=1000, reg_alpha=0.03, subsample=0.6, total=   0.2s\n",
      "[CV] colsample_bytree=0.5, max_depth=2, n_estimators=1000, reg_alpha=0.03, subsample=0.6 \n",
      "[CV]  colsample_bytree=0.5, max_depth=2, n_estimators=1000, reg_alpha=0.03, subsample=0.6, total=   0.2s\n",
      "[CV] colsample_bytree=0.5, max_depth=2, n_estimators=1000, reg_alpha=0.03, subsample=0.6 \n",
      "[CV]  colsample_bytree=0.5, max_depth=2, n_estimators=1000, reg_alpha=0.03, subsample=0.6, total=   0.2s\n"
     ]
    },
    {
     "name": "stderr",
     "output_type": "stream",
     "text": [
      "[Parallel(n_jobs=1)]: Done   5 out of   5 | elapsed:    1.1s finished\n"
     ]
    },
    {
     "name": "stdout",
     "output_type": "stream",
     "text": [
      "Best Hyper Parameters:\n",
      " XGBClassifier(base_score=0.5, booster='gbtree', colsample_bylevel=1,\n",
      "              colsample_bytree=0.5, gamma=0, learning_rate=0.1,\n",
      "              max_delta_step=0, max_depth=2, min_child_weight=1, missing=None,\n",
      "              n_estimators=1000, n_jobs=1, nthread=None,\n",
      "              objective='binary:logistic', random_state=0, randomstate=0,\n",
      "              reg_alpha=0.03, reg_lambda=1, scale_pos_weight=1, seed=None,\n",
      "              silent=True, subsample=0.6)\n",
      "Accuracy: 0.9212598425196851\n",
      "Precision: 0.890625\n",
      "Recall: 0.95\n",
      "F1: 0.9193548387096774\n",
      "Area under precision Recall: 0.8697157972440945\n"
     ]
    }
   ],
   "source": [
    "# XGBoost 파라미터 튜닝\n",
    "\n",
    "params={\n",
    "    'max_depth': [2], #[3,4,5,6,7,8,9], # 5 is good but takes too long in kaggle env\n",
    "    'subsample': [0.6], #[0.4,0.5,0.6,0.7,0.8,0.9,1.0],\n",
    "    'colsample_bytree': [0.5], #[0.5,0.6,0.7,0.8],\n",
    "    'n_estimators': [1000], #[1000,2000,3000]\n",
    "    'reg_alpha': [0.03] #[0.01, 0.02, 0.03, 0.04]\n",
    "}\n",
    "\n",
    "xgb_clf = XGBClassifier(randomstate=0)\n",
    "xgbs_cv = GridSearchCV(xgb_clf, params, cv=5, n_jobs=1, verbose=2)\n",
    "xgbs_cv.fit(train_X, train_y)\n",
    "\n",
    "print(\"Best Hyper Parameters:\\n\",xgbs_cv.best_estimator_)\n",
    "\n",
    "y_pred = xgbs_cv.predict(val_X)\n",
    "print(\"Accuracy:\", xgbs_cv.score(val_X, val_y))\n",
    "print(\"Precision:\", precision_score(val_y, y_pred))\n",
    "print(\"Recall:\", recall_score(val_y, y_pred))\n",
    "print(\"F1:\", f1_score(val_y, y_pred))\n",
    "print(\"Area under precision Recall:\", average_precision_score(val_y, y_pred))\n",
    "\n",
    "xgbs_result_cv = {}\n",
    "\n",
    "xgbs_result_cv['accuracy_cv'] = round(xgbs_cv.score(val_X, val_y),4)\n",
    "xgbs_result_cv['precision_cv'] = round(precision_score(val_y, y_pred),4)\n",
    "xgbs_result_cv['recall_cv'] = round(recall_score(val_y, y_pred),4)\n",
    "xgbs_result_cv['F1_cv'] = round(f1_score(val_y, y_pred),4)\n",
    "xgbs_result_cv['Area under precision Recall_cv'] = round(average_precision_score(val_y, y_pred),4)\n",
    "\n",
    "\n"
   ]
  },
  {
   "cell_type": "code",
   "execution_count": 37,
   "metadata": {},
   "outputs": [
    {
     "data": {
      "text/plain": [
       "{'accuracy_cv': 0.8136,\n",
       " 'precision_cv': 0.7914,\n",
       " 'recall_cv': 0.8222,\n",
       " 'F1_cv': 0.8065,\n",
       " 'Area under precision Recall_cv': 0.7347}"
      ]
     },
     "execution_count": 37,
     "metadata": {},
     "output_type": "execute_result"
    }
   ],
   "source": [
    "logreg_result_cv"
   ]
  },
  {
   "cell_type": "code",
   "execution_count": 39,
   "metadata": {},
   "outputs": [
    {
     "data": {
      "text/html": [
       "<div>\n",
       "<style scoped>\n",
       "    .dataframe tbody tr th:only-of-type {\n",
       "        vertical-align: middle;\n",
       "    }\n",
       "\n",
       "    .dataframe tbody tr th {\n",
       "        vertical-align: top;\n",
       "    }\n",
       "\n",
       "    .dataframe thead th {\n",
       "        text-align: right;\n",
       "    }\n",
       "</style>\n",
       "<table border=\"1\" class=\"dataframe\">\n",
       "  <thead>\n",
       "    <tr style=\"text-align: right;\">\n",
       "      <th></th>\n",
       "      <th>accuracy_cv</th>\n",
       "      <th>precision_cv</th>\n",
       "      <th>recall_cv</th>\n",
       "      <th>F1_cv</th>\n",
       "      <th>Area under precision Recall_cv</th>\n",
       "    </tr>\n",
       "  </thead>\n",
       "  <tbody>\n",
       "    <tr>\n",
       "      <th>Logistic Regression</th>\n",
       "      <td>0.8136</td>\n",
       "      <td>0.7914</td>\n",
       "      <td>0.8222</td>\n",
       "      <td>0.8065</td>\n",
       "      <td>0.7347</td>\n",
       "    </tr>\n",
       "    <tr>\n",
       "      <th>k-nearest neighbor</th>\n",
       "      <td>0.8635</td>\n",
       "      <td>0.7991</td>\n",
       "      <td>0.9500</td>\n",
       "      <td>0.8680</td>\n",
       "      <td>0.7827</td>\n",
       "    </tr>\n",
       "    <tr>\n",
       "      <th>Decision Tree</th>\n",
       "      <td>0.9003</td>\n",
       "      <td>0.8859</td>\n",
       "      <td>0.9056</td>\n",
       "      <td>0.8956</td>\n",
       "      <td>0.8468</td>\n",
       "    </tr>\n",
       "    <tr>\n",
       "      <th>Random Forest</th>\n",
       "      <td>0.9186</td>\n",
       "      <td>0.9027</td>\n",
       "      <td>0.9278</td>\n",
       "      <td>0.9151</td>\n",
       "      <td>0.8716</td>\n",
       "    </tr>\n",
       "    <tr>\n",
       "      <th>Ada boost</th>\n",
       "      <td>0.9081</td>\n",
       "      <td>0.8836</td>\n",
       "      <td>0.9278</td>\n",
       "      <td>0.9051</td>\n",
       "      <td>0.8539</td>\n",
       "    </tr>\n",
       "    <tr>\n",
       "      <th>Gredient Boost</th>\n",
       "      <td>0.9003</td>\n",
       "      <td>0.8447</td>\n",
       "      <td>0.9667</td>\n",
       "      <td>0.9016</td>\n",
       "      <td>0.8323</td>\n",
       "    </tr>\n",
       "    <tr>\n",
       "      <th>XGBoost</th>\n",
       "      <td>0.9213</td>\n",
       "      <td>0.8906</td>\n",
       "      <td>0.9500</td>\n",
       "      <td>0.9194</td>\n",
       "      <td>0.8697</td>\n",
       "    </tr>\n",
       "  </tbody>\n",
       "</table>\n",
       "</div>"
      ],
      "text/plain": [
       "                     accuracy_cv  precision_cv  recall_cv   F1_cv  \\\n",
       "Logistic Regression       0.8136        0.7914     0.8222  0.8065   \n",
       "k-nearest neighbor        0.8635        0.7991     0.9500  0.8680   \n",
       "Decision Tree             0.9003        0.8859     0.9056  0.8956   \n",
       "Random Forest             0.9186        0.9027     0.9278  0.9151   \n",
       "Ada boost                 0.9081        0.8836     0.9278  0.9051   \n",
       "Gredient Boost            0.9003        0.8447     0.9667  0.9016   \n",
       "XGBoost                   0.9213        0.8906     0.9500  0.9194   \n",
       "\n",
       "                     Area under precision Recall_cv  \n",
       "Logistic Regression                          0.7347  \n",
       "k-nearest neighbor                           0.7827  \n",
       "Decision Tree                                0.8468  \n",
       "Random Forest                                0.8716  \n",
       "Ada boost                                    0.8539  \n",
       "Gredient Boost                               0.8323  \n",
       "XGBoost                                      0.8697  "
      ]
     },
     "execution_count": 39,
     "metadata": {},
     "output_type": "execute_result"
    }
   ],
   "source": [
    "final_results_cv={}\n",
    "\n",
    "final_results_cv = pd.DataFrame([logreg_result_cv, kn_result_cv,dt_result_cv,rf_result_cv, ada_result_cv, gred_result_cv,xgbs_result_cv],\n",
    "                            index=['Logistic Regression', 'k-nearest neighbor', 'Decision Tree', 'Random Forest',\n",
    "                                  'Ada boost', 'Gredient Boost', 'XGBoost'])\n",
    "final_results_cv"
   ]
  },
  {
   "cell_type": "code",
   "execution_count": 48,
   "metadata": {},
   "outputs": [
    {
     "data": {
      "text/html": [
       "<div>\n",
       "<style scoped>\n",
       "    .dataframe tbody tr th:only-of-type {\n",
       "        vertical-align: middle;\n",
       "    }\n",
       "\n",
       "    .dataframe tbody tr th {\n",
       "        vertical-align: top;\n",
       "    }\n",
       "\n",
       "    .dataframe thead th {\n",
       "        text-align: right;\n",
       "    }\n",
       "</style>\n",
       "<table border=\"1\" class=\"dataframe\">\n",
       "  <thead>\n",
       "    <tr style=\"text-align: right;\">\n",
       "      <th></th>\n",
       "      <th>accuracy</th>\n",
       "      <th>precision</th>\n",
       "      <th>recall</th>\n",
       "      <th>F1</th>\n",
       "      <th>Area under precision Recall</th>\n",
       "    </tr>\n",
       "  </thead>\n",
       "  <tbody>\n",
       "    <tr>\n",
       "      <th>Logistic Regression</th>\n",
       "      <td>0.8136</td>\n",
       "      <td>0.7914</td>\n",
       "      <td>0.8222</td>\n",
       "      <td>0.8065</td>\n",
       "      <td>0.7347</td>\n",
       "    </tr>\n",
       "    <tr>\n",
       "      <th>k-nearest neighbor</th>\n",
       "      <td>0.8294</td>\n",
       "      <td>0.8528</td>\n",
       "      <td>0.7722</td>\n",
       "      <td>0.8105</td>\n",
       "      <td>0.7661</td>\n",
       "    </tr>\n",
       "    <tr>\n",
       "      <th>Decision Tree</th>\n",
       "      <td>0.8583</td>\n",
       "      <td>0.8424</td>\n",
       "      <td>0.8611</td>\n",
       "      <td>0.8516</td>\n",
       "      <td>0.7910</td>\n",
       "    </tr>\n",
       "    <tr>\n",
       "      <th>Random Forest</th>\n",
       "      <td>0.9344</td>\n",
       "      <td>0.8934</td>\n",
       "      <td>0.9778</td>\n",
       "      <td>0.9337</td>\n",
       "      <td>0.8840</td>\n",
       "    </tr>\n",
       "    <tr>\n",
       "      <th>Ada boost</th>\n",
       "      <td>0.8871</td>\n",
       "      <td>0.8624</td>\n",
       "      <td>0.9056</td>\n",
       "      <td>0.8835</td>\n",
       "      <td>0.8256</td>\n",
       "    </tr>\n",
       "    <tr>\n",
       "      <th>Gredient Boost</th>\n",
       "      <td>0.9081</td>\n",
       "      <td>0.8796</td>\n",
       "      <td>0.9333</td>\n",
       "      <td>0.9057</td>\n",
       "      <td>0.8524</td>\n",
       "    </tr>\n",
       "    <tr>\n",
       "      <th>XGBoost</th>\n",
       "      <td>0.8950</td>\n",
       "      <td>0.8723</td>\n",
       "      <td>0.9111</td>\n",
       "      <td>0.8913</td>\n",
       "      <td>0.8368</td>\n",
       "    </tr>\n",
       "  </tbody>\n",
       "</table>\n",
       "</div>"
      ],
      "text/plain": [
       "                      accuracy  precision  recall      F1  \\\n",
       " Logistic Regression    0.8136     0.7914  0.8222  0.8065   \n",
       "k-nearest neighbor      0.8294     0.8528  0.7722  0.8105   \n",
       "Decision Tree           0.8583     0.8424  0.8611  0.8516   \n",
       "Random Forest           0.9344     0.8934  0.9778  0.9337   \n",
       "Ada boost               0.8871     0.8624  0.9056  0.8835   \n",
       "Gredient Boost          0.9081     0.8796  0.9333  0.9057   \n",
       "XGBoost                 0.8950     0.8723  0.9111  0.8913   \n",
       "\n",
       "                      Area under precision Recall  \n",
       " Logistic Regression                       0.7347  \n",
       "k-nearest neighbor                         0.7661  \n",
       "Decision Tree                              0.7910  \n",
       "Random Forest                              0.8840  \n",
       "Ada boost                                  0.8256  \n",
       "Gredient Boost                             0.8524  \n",
       "XGBoost                                    0.8368  "
      ]
     },
     "execution_count": 48,
     "metadata": {},
     "output_type": "execute_result"
    }
   ],
   "source": [
    "final_results"
   ]
  },
  {
   "cell_type": "code",
   "execution_count": 45,
   "metadata": {},
   "outputs": [],
   "source": [
    "def compare_to(score): # accuracy, precision, recall, F1, Area under precision Recall \n",
    "    \n",
    "    plt.rcParams[\"font.family\"] = 'Malgun Gothic'\n",
    "    plt.rcParams[\"font.size\"] = 12\n",
    "    plt.rcParams[\"figure.figsize\"] = (13.5, 8)\n",
    "\n",
    "    plt.figure()\n",
    "    \n",
    "    base_col = score\n",
    "    cv_col = score+\"_cv\"\n",
    "    \n",
    "    results_compare = {}\n",
    "    \n",
    "    results_compare = pd.DataFrame([final_results[base_col], final_results_cv[cv_col]])\n",
    "\n",
    "    x = np.arange(final_results.shape[0])\n",
    "\n",
    "    plt.bar(x-0.0, list(final_results[base_col].values), label='BaseLine + handle imbalance', width=0.2)\n",
    "    plt.bar(x+0.2, list(final_results_cv[cv_col].values), label='BaseLine + handle imbalance + Tuning', width=0.2)\n",
    "    plt.xticks(x, results_compare.columns)\n",
    "\n",
    "    plt.legend()\n",
    "    plt.ylim(0, 1.2)\n",
    "    plt.title(score)\n",
    "    \n",
    "    results_compare = {}\n",
    "    \n",
    "    results_compare = pd.DataFrame([final_results[base_col], final_results_cv[cv_col]])\n",
    "    \n",
    "    return results_compare\n",
    "\n",
    "  "
   ]
  },
  {
   "cell_type": "code",
   "execution_count": 51,
   "metadata": {},
   "outputs": [
    {
     "data": {
      "text/html": [
       "<div>\n",
       "<style scoped>\n",
       "    .dataframe tbody tr th:only-of-type {\n",
       "        vertical-align: middle;\n",
       "    }\n",
       "\n",
       "    .dataframe tbody tr th {\n",
       "        vertical-align: top;\n",
       "    }\n",
       "\n",
       "    .dataframe thead th {\n",
       "        text-align: right;\n",
       "    }\n",
       "</style>\n",
       "<table border=\"1\" class=\"dataframe\">\n",
       "  <thead>\n",
       "    <tr style=\"text-align: right;\">\n",
       "      <th></th>\n",
       "      <th>Logistic Regression</th>\n",
       "      <th>k-nearest neighbor</th>\n",
       "      <th>Decision Tree</th>\n",
       "      <th>Random Forest</th>\n",
       "      <th>Ada boost</th>\n",
       "      <th>Gredient Boost</th>\n",
       "      <th>XGBoost</th>\n",
       "    </tr>\n",
       "  </thead>\n",
       "  <tbody>\n",
       "    <tr>\n",
       "      <th>accuracy</th>\n",
       "      <td>0.8136</td>\n",
       "      <td>0.8294</td>\n",
       "      <td>0.8583</td>\n",
       "      <td>0.9344</td>\n",
       "      <td>0.8871</td>\n",
       "      <td>0.9081</td>\n",
       "      <td>0.8950</td>\n",
       "    </tr>\n",
       "    <tr>\n",
       "      <th>accuracy_cv</th>\n",
       "      <td>0.8136</td>\n",
       "      <td>0.8635</td>\n",
       "      <td>0.9003</td>\n",
       "      <td>0.9186</td>\n",
       "      <td>0.9081</td>\n",
       "      <td>0.9003</td>\n",
       "      <td>0.9213</td>\n",
       "    </tr>\n",
       "  </tbody>\n",
       "</table>\n",
       "</div>"
      ],
      "text/plain": [
       "             Logistic Regression  k-nearest neighbor  Decision Tree  \\\n",
       "accuracy                  0.8136              0.8294         0.8583   \n",
       "accuracy_cv               0.8136              0.8635         0.9003   \n",
       "\n",
       "             Random Forest  Ada boost  Gredient Boost  XGBoost  \n",
       "accuracy            0.9344     0.8871          0.9081   0.8950  \n",
       "accuracy_cv         0.9186     0.9081          0.9003   0.9213  "
      ]
     },
     "execution_count": 51,
     "metadata": {},
     "output_type": "execute_result"
    },
    {
     "data": {
      "image/png": "[encoded data removed]",
      "text/plain": [
       "<Figure size 972x576 with 1 Axes>"
      ]
     },
     "metadata": {
      "needs_background": "light"
     },
     "output_type": "display_data"
    }
   ],
   "source": [
    "compare_to(\"accuracy\") # accuracy, precision, recall, F1, Area under precision Recall "
   ]
  },
  {
   "cell_type": "code",
   "execution_count": 52,
   "metadata": {},
   "outputs": [
    {
     "data": {
      "text/html": [
       "<div>\n",
       "<style scoped>\n",
       "    .dataframe tbody tr th:only-of-type {\n",
       "        vertical-align: middle;\n",
       "    }\n",
       "\n",
       "    .dataframe tbody tr th {\n",
       "        vertical-align: top;\n",
       "    }\n",
       "\n",
       "    .dataframe thead th {\n",
       "        text-align: right;\n",
       "    }\n",
       "</style>\n",
       "<table border=\"1\" class=\"dataframe\">\n",
       "  <thead>\n",
       "    <tr style=\"text-align: right;\">\n",
       "      <th></th>\n",
       "      <th>Logistic Regression</th>\n",
       "      <th>k-nearest neighbor</th>\n",
       "      <th>Decision Tree</th>\n",
       "      <th>Random Forest</th>\n",
       "      <th>Ada boost</th>\n",
       "      <th>Gredient Boost</th>\n",
       "      <th>XGBoost</th>\n",
       "    </tr>\n",
       "  </thead>\n",
       "  <tbody>\n",
       "    <tr>\n",
       "      <th>F1</th>\n",
       "      <td>0.8065</td>\n",
       "      <td>0.8105</td>\n",
       "      <td>0.8516</td>\n",
       "      <td>0.9337</td>\n",
       "      <td>0.8835</td>\n",
       "      <td>0.9057</td>\n",
       "      <td>0.8913</td>\n",
       "    </tr>\n",
       "    <tr>\n",
       "      <th>F1_cv</th>\n",
       "      <td>0.8065</td>\n",
       "      <td>0.8680</td>\n",
       "      <td>0.8956</td>\n",
       "      <td>0.9151</td>\n",
       "      <td>0.9051</td>\n",
       "      <td>0.9016</td>\n",
       "      <td>0.9194</td>\n",
       "    </tr>\n",
       "  </tbody>\n",
       "</table>\n",
       "</div>"
      ],
      "text/plain": [
       "       Logistic Regression  k-nearest neighbor  Decision Tree  Random Forest  \\\n",
       "F1                  0.8065              0.8105         0.8516         0.9337   \n",
       "F1_cv               0.8065              0.8680         0.8956         0.9151   \n",
       "\n",
       "       Ada boost  Gredient Boost  XGBoost  \n",
       "F1        0.8835          0.9057   0.8913  \n",
       "F1_cv     0.9051          0.9016   0.9194  "
      ]
     },
     "execution_count": 52,
     "metadata": {},
     "output_type": "execute_result"
    },
    {
     "data": {
      "image/png": "[encoded data removed]",
      "text/plain": [
       "<Figure size 972x576 with 1 Axes>"
      ]
     },
     "metadata": {
      "needs_background": "light"
     },
     "output_type": "display_data"
    }
   ],
   "source": [
    "compare_to(\"F1\") # accuracy, precision, recall, F1, Area under precision Recall "
   ]
  },
  {
   "cell_type": "code",
   "execution_count": null,
   "metadata": {},
   "outputs": [],
   "source": []
  }
 ],
 "metadata": {
  "kernelspec": {
   "display_name": "Python 3",
   "language": "python",
   "name": "python3"
  },
  "language_info": {
   "codemirror_mode": {
    "name": "ipython",
    "version": 3
   },
   "file_extension": ".py",
   "mimetype": "text/x-python",
   "name": "python",
   "nbconvert_exporter": "python",
   "pygments_lexer": "ipython3",
   "version": "3.7.4"
  }
 },
 "nbformat": 4,
 "nbformat_minor": 2
}
